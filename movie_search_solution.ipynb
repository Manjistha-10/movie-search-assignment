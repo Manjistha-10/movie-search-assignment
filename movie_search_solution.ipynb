{
 "cells": [
  {
   "cell_type": "markdown",
   "id": "8174a361-3f59-40e4-a51b-761889655b7b",
   "metadata": {},
   "source": [
    "# Movie Semantic Search Assignment\n",
    "\n",
    "This notebook demonstrates the implementation of a semantic search engine for movie plots using SentenceTransformers (`all-MiniLM-L6-v2`)."
   ]
  },
  {
   "cell_type": "code",
   "execution_count": 20,
   "id": "9e128b7f-2659-4d92-b1d4-76ef7ea4cec3",
   "metadata": {},
   "outputs": [
    {
     "name": "stdout",
     "output_type": "stream",
     "text": [
      "Defaulting to user installation because normal site-packages is not writeable\n",
      "Requirement already satisfied: sentence-transformers in c:\\users\\dell\\appdata\\roaming\\python\\python312\\site-packages (from -r requirements.txt (line 1)) (5.1.0)\n",
      "Requirement already satisfied: pandas in c:\\users\\dell\\appdata\\roaming\\python\\python312\\site-packages (from -r requirements.txt (line 2)) (2.2.3)\n",
      "Requirement already satisfied: scikit-learn in c:\\users\\dell\\appdata\\roaming\\python\\python312\\site-packages (from -r requirements.txt (line 3)) (1.3.2)\n",
      "Requirement already satisfied: transformers<5.0.0,>=4.41.0 in c:\\users\\dell\\appdata\\roaming\\python\\python312\\site-packages (from sentence-transformers->-r requirements.txt (line 1)) (4.55.4)\n",
      "Requirement already satisfied: tqdm in c:\\users\\dell\\appdata\\roaming\\python\\python312\\site-packages (from sentence-transformers->-r requirements.txt (line 1)) (4.66.4)\n",
      "Requirement already satisfied: torch>=1.11.0 in c:\\users\\dell\\appdata\\roaming\\python\\python312\\site-packages (from sentence-transformers->-r requirements.txt (line 1)) (2.7.1)\n",
      "Requirement already satisfied: scipy in c:\\users\\dell\\appdata\\roaming\\python\\python312\\site-packages (from sentence-transformers->-r requirements.txt (line 1)) (1.14.1)\n",
      "Requirement already satisfied: huggingface-hub>=0.20.0 in c:\\users\\dell\\appdata\\roaming\\python\\python312\\site-packages (from sentence-transformers->-r requirements.txt (line 1)) (0.34.4)\n",
      "Requirement already satisfied: Pillow in c:\\users\\dell\\appdata\\roaming\\python\\python312\\site-packages (from sentence-transformers->-r requirements.txt (line 1)) (10.3.0)\n",
      "Requirement already satisfied: typing_extensions>=4.5.0 in c:\\users\\dell\\appdata\\roaming\\python\\python312\\site-packages (from sentence-transformers->-r requirements.txt (line 1)) (4.11.0)\n",
      "Requirement already satisfied: numpy>=1.26.0 in c:\\users\\dell\\appdata\\roaming\\python\\python312\\site-packages (from pandas->-r requirements.txt (line 2)) (1.26.4)\n",
      "Requirement already satisfied: python-dateutil>=2.8.2 in c:\\users\\dell\\appdata\\roaming\\python\\python312\\site-packages (from pandas->-r requirements.txt (line 2)) (2.9.0.post0)\n",
      "Requirement already satisfied: pytz>=2020.1 in c:\\users\\dell\\appdata\\roaming\\python\\python312\\site-packages (from pandas->-r requirements.txt (line 2)) (2024.2)\n",
      "Requirement already satisfied: tzdata>=2022.7 in c:\\users\\dell\\appdata\\roaming\\python\\python312\\site-packages (from pandas->-r requirements.txt (line 2)) (2024.2)\n",
      "Requirement already satisfied: joblib>=1.1.1 in c:\\users\\dell\\appdata\\roaming\\python\\python312\\site-packages (from scikit-learn->-r requirements.txt (line 3)) (1.1.1)\n",
      "Requirement already satisfied: threadpoolctl>=2.0.0 in c:\\users\\dell\\appdata\\roaming\\python\\python312\\site-packages (from scikit-learn->-r requirements.txt (line 3)) (3.5.0)\n",
      "Requirement already satisfied: filelock in c:\\users\\dell\\appdata\\roaming\\python\\python312\\site-packages (from huggingface-hub>=0.20.0->sentence-transformers->-r requirements.txt (line 1)) (3.18.0)\n",
      "Requirement already satisfied: fsspec>=2023.5.0 in c:\\users\\dell\\appdata\\roaming\\python\\python312\\site-packages (from huggingface-hub>=0.20.0->sentence-transformers->-r requirements.txt (line 1)) (2025.5.1)\n",
      "Requirement already satisfied: packaging>=20.9 in c:\\users\\dell\\appdata\\roaming\\python\\python312\\site-packages (from huggingface-hub>=0.20.0->sentence-transformers->-r requirements.txt (line 1)) (24.0)\n",
      "Requirement already satisfied: pyyaml>=5.1 in c:\\users\\dell\\appdata\\roaming\\python\\python312\\site-packages (from huggingface-hub>=0.20.0->sentence-transformers->-r requirements.txt (line 1)) (6.0.2)\n",
      "Requirement already satisfied: requests in c:\\users\\dell\\appdata\\roaming\\python\\python312\\site-packages (from huggingface-hub>=0.20.0->sentence-transformers->-r requirements.txt (line 1)) (2.31.0)\n",
      "Requirement already satisfied: six>=1.5 in c:\\users\\dell\\appdata\\roaming\\python\\python312\\site-packages (from python-dateutil>=2.8.2->pandas->-r requirements.txt (line 2)) (1.16.0)\n",
      "Requirement already satisfied: sympy>=1.13.3 in c:\\users\\dell\\appdata\\roaming\\python\\python312\\site-packages (from torch>=1.11.0->sentence-transformers->-r requirements.txt (line 1)) (1.14.0)\n",
      "Requirement already satisfied: networkx in c:\\users\\dell\\appdata\\roaming\\python\\python312\\site-packages (from torch>=1.11.0->sentence-transformers->-r requirements.txt (line 1)) (3.4.2)\n",
      "Requirement already satisfied: jinja2 in c:\\users\\dell\\appdata\\roaming\\python\\python312\\site-packages (from torch>=1.11.0->sentence-transformers->-r requirements.txt (line 1)) (3.1.4)\n",
      "Requirement already satisfied: setuptools in c:\\users\\dell\\appdata\\roaming\\python\\python312\\site-packages (from torch>=1.11.0->sentence-transformers->-r requirements.txt (line 1)) (75.2.0)\n",
      "Requirement already satisfied: colorama in c:\\users\\dell\\appdata\\roaming\\python\\python312\\site-packages (from tqdm->sentence-transformers->-r requirements.txt (line 1)) (0.4.6)\n",
      "Requirement already satisfied: regex!=2019.12.17 in c:\\users\\dell\\appdata\\roaming\\python\\python312\\site-packages (from transformers<5.0.0,>=4.41.0->sentence-transformers->-r requirements.txt (line 1)) (2024.5.15)\n",
      "Requirement already satisfied: tokenizers<0.22,>=0.21 in c:\\users\\dell\\appdata\\roaming\\python\\python312\\site-packages (from transformers<5.0.0,>=4.41.0->sentence-transformers->-r requirements.txt (line 1)) (0.21.4)\n",
      "Requirement already satisfied: safetensors>=0.4.3 in c:\\users\\dell\\appdata\\roaming\\python\\python312\\site-packages (from transformers<5.0.0,>=4.41.0->sentence-transformers->-r requirements.txt (line 1)) (0.6.2)\n",
      "Requirement already satisfied: mpmath<1.4,>=1.1.0 in c:\\users\\dell\\appdata\\roaming\\python\\python312\\site-packages (from sympy>=1.13.3->torch>=1.11.0->sentence-transformers->-r requirements.txt (line 1)) (1.3.0)\n",
      "Requirement already satisfied: MarkupSafe>=2.0 in c:\\users\\dell\\appdata\\roaming\\python\\python312\\site-packages (from jinja2->torch>=1.11.0->sentence-transformers->-r requirements.txt (line 1)) (2.1.5)\n",
      "Requirement already satisfied: charset-normalizer<4,>=2 in c:\\users\\dell\\appdata\\roaming\\python\\python312\\site-packages (from requests->huggingface-hub>=0.20.0->sentence-transformers->-r requirements.txt (line 1)) (3.3.2)\n",
      "Requirement already satisfied: idna<4,>=2.5 in c:\\users\\dell\\appdata\\roaming\\python\\python312\\site-packages (from requests->huggingface-hub>=0.20.0->sentence-transformers->-r requirements.txt (line 1)) (3.7)\n",
      "Requirement already satisfied: urllib3<3,>=1.21.1 in c:\\users\\dell\\appdata\\roaming\\python\\python312\\site-packages (from requests->huggingface-hub>=0.20.0->sentence-transformers->-r requirements.txt (line 1)) (2.2.1)\n",
      "Requirement already satisfied: certifi>=2017.4.17 in c:\\users\\dell\\appdata\\roaming\\python\\python312\\site-packages (from requests->huggingface-hub>=0.20.0->sentence-transformers->-r requirements.txt (line 1)) (2024.2.2)\n"
     ]
    },
    {
     "name": "stderr",
     "output_type": "stream",
     "text": [
      "DEPRECATION: Loading egg at c:\\program files\\python312\\lib\\site-packages\\vboxapi-1.0-py3.12.egg is deprecated. pip 25.1 will enforce this behaviour change. A possible replacement is to use pip for package installation. Discussion can be found at https://github.com/pypa/pip/issues/12330\n",
      "\n",
      "[notice] A new release of pip is available: 24.3.1 -> 25.2\n",
      "[notice] To update, run: python.exe -m pip install --upgrade pip\n"
     ]
    }
   ],
   "source": [
    "# Install dependencies inside Jupyter\n",
    "!pip install -r requirements.txt"
   ]
  },
  {
   "cell_type": "code",
   "execution_count": 13,
   "id": "f9d4222b-750a-4325-95dc-537f47f1f8af",
   "metadata": {},
   "outputs": [],
   "source": [
    "import pandas as pd\n",
    "from sentence_transformers import SentenceTransformer\n",
    "from sklearn.metrics.pairwise import cosine_similarity"
   ]
  },
  {
   "cell_type": "code",
   "execution_count": 14,
   "id": "754ce79a-24bf-4553-a9d5-1d2ba937aac2",
   "metadata": {},
   "outputs": [],
   "source": [
    "# Loading the Dataset\n",
    "df = pd.read_csv(\"movies.csv\")"
   ]
  },
  {
   "cell_type": "code",
   "execution_count": 15,
   "id": "d6a927ed-afed-4e1b-93c4-bd2702619566",
   "metadata": {},
   "outputs": [
    {
     "data": {
      "text/html": [
       "<div>\n",
       "<style scoped>\n",
       "    .dataframe tbody tr th:only-of-type {\n",
       "        vertical-align: middle;\n",
       "    }\n",
       "\n",
       "    .dataframe tbody tr th {\n",
       "        vertical-align: top;\n",
       "    }\n",
       "\n",
       "    .dataframe thead th {\n",
       "        text-align: right;\n",
       "    }\n",
       "</style>\n",
       "<table border=\"1\" class=\"dataframe\">\n",
       "  <thead>\n",
       "    <tr style=\"text-align: right;\">\n",
       "      <th></th>\n",
       "      <th>title</th>\n",
       "      <th>plot</th>\n",
       "    </tr>\n",
       "  </thead>\n",
       "  <tbody>\n",
       "    <tr>\n",
       "      <th>0</th>\n",
       "      <td>Spy Movie</td>\n",
       "      <td>A spy navigates intrigue in Paris to stop a te...</td>\n",
       "    </tr>\n",
       "    <tr>\n",
       "      <th>1</th>\n",
       "      <td>Romance in Paris</td>\n",
       "      <td>A couple falls in love in Paris under romantic...</td>\n",
       "    </tr>\n",
       "    <tr>\n",
       "      <th>2</th>\n",
       "      <td>Action Flick</td>\n",
       "      <td>A high-octane chase through New York with expl...</td>\n",
       "    </tr>\n",
       "  </tbody>\n",
       "</table>\n",
       "</div>"
      ],
      "text/plain": [
       "              title                                               plot\n",
       "0         Spy Movie  A spy navigates intrigue in Paris to stop a te...\n",
       "1  Romance in Paris  A couple falls in love in Paris under romantic...\n",
       "2      Action Flick  A high-octane chase through New York with expl..."
      ]
     },
     "execution_count": 15,
     "metadata": {},
     "output_type": "execute_result"
    }
   ],
   "source": [
    "df"
   ]
  },
  {
   "cell_type": "code",
   "execution_count": 16,
   "id": "ec80ead9-cc3f-425c-91d4-bccc46b09e63",
   "metadata": {},
   "outputs": [
    {
     "name": "stdout",
     "output_type": "stream",
     "text": [
      "Embeddings created for 3 movies.\n"
     ]
    }
   ],
   "source": [
    "# Creating Embeddings\n",
    "\n",
    "# Loading SentenceTransformer model\n",
    "model = SentenceTransformer('all-MiniLM-L6-v2')\n",
    "\n",
    "# Encoding all movie plots\n",
    "embeddings = model.encode(df['plot'].tolist(), convert_to_tensor=False)\n",
    "\n",
    "print(\"Embeddings created for\", len(embeddings), \"movies.\")"
   ]
  },
  {
   "cell_type": "code",
   "execution_count": 17,
   "id": "88a9c831-b244-4b81-acef-9a4938e6ebd4",
   "metadata": {},
   "outputs": [],
   "source": [
    "# Defining the Search Function\n",
    "\n",
    "def search_movies(query, top_n=5):\n",
    "    \"\"\"\n",
    "    Search for the most relevant movies given a natural language query.\n",
    "    \"\"\"\n",
    "    query_embedding = model.encode([query], convert_to_tensor=False)\n",
    "    similarities = cosine_similarity(query_embedding, embeddings)[0]\n",
    "\n",
    "    results = df.copy()\n",
    "    results['similarity'] = similarities\n",
    "    results = results.sort_values(by='similarity', ascending=False).head(top_n)\n",
    "    return results.head(top_n).reset_index(drop=True)"
   ]
  },
  {
   "cell_type": "code",
   "execution_count": 18,
   "id": "b1268adb-98ae-4481-b94e-f3e56154b949",
   "metadata": {},
   "outputs": [
    {
     "data": {
      "text/html": [
       "<div>\n",
       "<style scoped>\n",
       "    .dataframe tbody tr th:only-of-type {\n",
       "        vertical-align: middle;\n",
       "    }\n",
       "\n",
       "    .dataframe tbody tr th {\n",
       "        vertical-align: top;\n",
       "    }\n",
       "\n",
       "    .dataframe thead th {\n",
       "        text-align: right;\n",
       "    }\n",
       "</style>\n",
       "<table border=\"1\" class=\"dataframe\">\n",
       "  <thead>\n",
       "    <tr style=\"text-align: right;\">\n",
       "      <th></th>\n",
       "      <th>title</th>\n",
       "      <th>plot</th>\n",
       "      <th>similarity</th>\n",
       "    </tr>\n",
       "  </thead>\n",
       "  <tbody>\n",
       "    <tr>\n",
       "      <th>0</th>\n",
       "      <td>Spy Movie</td>\n",
       "      <td>A spy navigates intrigue in Paris to stop a te...</td>\n",
       "      <td>0.769684</td>\n",
       "    </tr>\n",
       "    <tr>\n",
       "      <th>1</th>\n",
       "      <td>Romance in Paris</td>\n",
       "      <td>A couple falls in love in Paris under romantic...</td>\n",
       "      <td>0.388030</td>\n",
       "    </tr>\n",
       "    <tr>\n",
       "      <th>2</th>\n",
       "      <td>Action Flick</td>\n",
       "      <td>A high-octane chase through New York with expl...</td>\n",
       "      <td>0.256777</td>\n",
       "    </tr>\n",
       "  </tbody>\n",
       "</table>\n",
       "</div>"
      ],
      "text/plain": [
       "              title                                               plot  \\\n",
       "0         Spy Movie  A spy navigates intrigue in Paris to stop a te...   \n",
       "1  Romance in Paris  A couple falls in love in Paris under romantic...   \n",
       "2      Action Flick  A high-octane chase through New York with expl...   \n",
       "\n",
       "   similarity  \n",
       "0    0.769684  \n",
       "1    0.388030  \n",
       "2    0.256777  "
      ]
     },
     "execution_count": 18,
     "metadata": {},
     "output_type": "execute_result"
    }
   ],
   "source": [
    "# Example query\n",
    "search_movies(\"spy thriller in Paris\", top_n=3)"
   ]
  },
  {
   "cell_type": "code",
   "execution_count": 19,
   "id": "8768e0ff-414f-4407-bb6e-ffbee0f9d7cc",
   "metadata": {},
   "outputs": [
    {
     "name": "stderr",
     "output_type": "stream",
     "text": [
      "test_search_movies_output_format (tests.test_movie_search.TestMovieSearch.test_search_movies_output_format)\n",
      "Test if search_movies returns a DataFrame with correct columns. ... ok\n",
      "test_search_movies_relevance (tests.test_movie_search.TestMovieSearch.test_search_movies_relevance)\n",
      "Test if returned movies are relevant to the query. ... ok\n",
      "test_search_movies_similarity_range (tests.test_movie_search.TestMovieSearch.test_search_movies_similarity_range)\n",
      "Test if similarity scores are between 0 and 1. ... ok\n",
      "test_search_movies_top_n (tests.test_movie_search.TestMovieSearch.test_search_movies_top_n)\n",
      "Test if search_movies returns the correct number of results. ... ok\n",
      "\n",
      "----------------------------------------------------------------------\n",
      "Ran 4 tests in 4.300s\n",
      "\n",
      "OK\n"
     ]
    }
   ],
   "source": [
    "# Running unit tests\n",
    "!python -m unittest tests.test_movie_search -v"
   ]
  },
  {
   "cell_type": "code",
   "execution_count": null,
   "id": "e03282aa-3920-4880-bbea-b276c1c73ab1",
   "metadata": {},
   "outputs": [],
   "source": []
  }
 ],
 "metadata": {
  "kernelspec": {
   "display_name": "Python 3 (ipykernel)",
   "language": "python",
   "name": "python3"
  },
  "language_info": {
   "codemirror_mode": {
    "name": "ipython",
    "version": 3
   },
   "file_extension": ".py",
   "mimetype": "text/x-python",
   "name": "python",
   "nbconvert_exporter": "python",
   "pygments_lexer": "ipython3",
   "version": "3.12.3"
  }
 },
 "nbformat": 4,
 "nbformat_minor": 5
}
